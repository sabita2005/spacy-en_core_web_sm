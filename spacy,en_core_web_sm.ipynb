{
 "cells": [
  {
   "cell_type": "code",
   "execution_count": 1,
   "id": "258d497a",
   "metadata": {},
   "outputs": [
    {
     "name": "stdout",
     "output_type": "stream",
     "text": [
      "Requirement already satisfied: spacy in c:\\users\\sabita\\anaconda3\\lib\\site-packages (3.7.2)\n",
      "Requirement already satisfied: spacy-legacy<3.1.0,>=3.0.11 in c:\\users\\sabita\\anaconda3\\lib\\site-packages (from spacy) (3.0.12)\n",
      "Requirement already satisfied: spacy-loggers<2.0.0,>=1.0.0 in c:\\users\\sabita\\anaconda3\\lib\\site-packages (from spacy) (1.0.5)\n",
      "Requirement already satisfied: murmurhash<1.1.0,>=0.28.0 in c:\\users\\sabita\\anaconda3\\lib\\site-packages (from spacy) (1.0.10)\n",
      "Requirement already satisfied: cymem<2.1.0,>=2.0.2 in c:\\users\\sabita\\anaconda3\\lib\\site-packages (from spacy) (2.0.8)\n",
      "Requirement already satisfied: preshed<3.1.0,>=3.0.2 in c:\\users\\sabita\\anaconda3\\lib\\site-packages (from spacy) (3.0.9)\n",
      "Requirement already satisfied: thinc<8.3.0,>=8.1.8 in c:\\users\\sabita\\anaconda3\\lib\\site-packages (from spacy) (8.2.2)\n",
      "Requirement already satisfied: wasabi<1.2.0,>=0.9.1 in c:\\users\\sabita\\anaconda3\\lib\\site-packages (from spacy) (1.1.2)\n",
      "Requirement already satisfied: srsly<3.0.0,>=2.4.3 in c:\\users\\sabita\\anaconda3\\lib\\site-packages (from spacy) (2.4.8)\n",
      "Requirement already satisfied: catalogue<2.1.0,>=2.0.6 in c:\\users\\sabita\\anaconda3\\lib\\site-packages (from spacy) (2.0.10)\n",
      "Requirement already satisfied: weasel<0.4.0,>=0.1.0 in c:\\users\\sabita\\anaconda3\\lib\\site-packages (from spacy) (0.3.4)\n",
      "Requirement already satisfied: typer<0.10.0,>=0.3.0 in c:\\users\\sabita\\anaconda3\\lib\\site-packages (from spacy) (0.9.0)\n",
      "Requirement already satisfied: smart-open<7.0.0,>=5.2.1 in c:\\users\\sabita\\anaconda3\\lib\\site-packages (from spacy) (5.2.1)\n",
      "Requirement already satisfied: tqdm<5.0.0,>=4.38.0 in c:\\users\\sabita\\anaconda3\\lib\\site-packages (from spacy) (4.65.0)\n",
      "Requirement already satisfied: requests<3.0.0,>=2.13.0 in c:\\users\\sabita\\anaconda3\\lib\\site-packages (from spacy) (2.31.0)\n",
      "Requirement already satisfied: pydantic!=1.8,!=1.8.1,<3.0.0,>=1.7.4 in c:\\users\\sabita\\anaconda3\\lib\\site-packages (from spacy) (2.5.2)\n",
      "Requirement already satisfied: jinja2 in c:\\users\\sabita\\anaconda3\\lib\\site-packages (from spacy) (3.1.2)\n",
      "Requirement already satisfied: setuptools in c:\\users\\sabita\\anaconda3\\lib\\site-packages (from spacy) (68.0.0)\n",
      "Requirement already satisfied: packaging>=20.0 in c:\\users\\sabita\\anaconda3\\lib\\site-packages (from spacy) (23.0)\n",
      "Requirement already satisfied: langcodes<4.0.0,>=3.2.0 in c:\\users\\sabita\\anaconda3\\lib\\site-packages (from spacy) (3.3.0)\n",
      "Requirement already satisfied: numpy>=1.19.0 in c:\\users\\sabita\\anaconda3\\lib\\site-packages (from spacy) (1.24.3)\n",
      "Requirement already satisfied: annotated-types>=0.4.0 in c:\\users\\sabita\\anaconda3\\lib\\site-packages (from pydantic!=1.8,!=1.8.1,<3.0.0,>=1.7.4->spacy) (0.6.0)\n",
      "Requirement already satisfied: pydantic-core==2.14.5 in c:\\users\\sabita\\anaconda3\\lib\\site-packages (from pydantic!=1.8,!=1.8.1,<3.0.0,>=1.7.4->spacy) (2.14.5)\n",
      "Requirement already satisfied: typing-extensions>=4.6.1 in c:\\users\\sabita\\anaconda3\\lib\\site-packages (from pydantic!=1.8,!=1.8.1,<3.0.0,>=1.7.4->spacy) (4.7.1)\n",
      "Requirement already satisfied: charset-normalizer<4,>=2 in c:\\users\\sabita\\anaconda3\\lib\\site-packages (from requests<3.0.0,>=2.13.0->spacy) (2.0.4)\n",
      "Requirement already satisfied: idna<4,>=2.5 in c:\\users\\sabita\\anaconda3\\lib\\site-packages (from requests<3.0.0,>=2.13.0->spacy) (2.10)\n",
      "Requirement already satisfied: urllib3<3,>=1.21.1 in c:\\users\\sabita\\anaconda3\\lib\\site-packages (from requests<3.0.0,>=2.13.0->spacy) (1.26.16)\n",
      "Requirement already satisfied: certifi>=2017.4.17 in c:\\users\\sabita\\anaconda3\\lib\\site-packages (from requests<3.0.0,>=2.13.0->spacy) (2023.7.22)\n",
      "Requirement already satisfied: blis<0.8.0,>=0.7.8 in c:\\users\\sabita\\anaconda3\\lib\\site-packages (from thinc<8.3.0,>=8.1.8->spacy) (0.7.11)\n",
      "Requirement already satisfied: confection<1.0.0,>=0.0.1 in c:\\users\\sabita\\anaconda3\\lib\\site-packages (from thinc<8.3.0,>=8.1.8->spacy) (0.1.4)\n",
      "Requirement already satisfied: colorama in c:\\users\\sabita\\anaconda3\\lib\\site-packages (from tqdm<5.0.0,>=4.38.0->spacy) (0.4.6)\n",
      "Requirement already satisfied: click<9.0.0,>=7.1.1 in c:\\users\\sabita\\anaconda3\\lib\\site-packages (from typer<0.10.0,>=0.3.0->spacy) (8.0.4)\n",
      "Requirement already satisfied: cloudpathlib<0.17.0,>=0.7.0 in c:\\users\\sabita\\anaconda3\\lib\\site-packages (from weasel<0.4.0,>=0.1.0->spacy) (0.16.0)\n",
      "Requirement already satisfied: MarkupSafe>=2.0 in c:\\users\\sabita\\anaconda3\\lib\\site-packages (from jinja2->spacy) (2.1.1)\n"
     ]
    }
   ],
   "source": [
    "!pip install spacy"
   ]
  },
  {
   "cell_type": "code",
   "execution_count": 2,
   "id": "30816047",
   "metadata": {},
   "outputs": [
    {
     "name": "stdout",
     "output_type": "stream",
     "text": [
      "Collecting en-core-web-sm==3.7.1\n",
      "  Downloading https://github.com/explosion/spacy-models/releases/download/en_core_web_sm-3.7.1/en_core_web_sm-3.7.1-py3-none-any.whl (12.8 MB)\n",
      "     ---------------------------------------- 0.0/12.8 MB ? eta -:--:--\n",
      "     ---------------------------------------- 0.0/12.8 MB ? eta -:--:--\n",
      "     ---------------------------------------- 0.0/12.8 MB ? eta -:--:--\n",
      "     ---------------------------------------- 0.0/12.8 MB ? eta -:--:--\n",
      "     ---------------------------------------- 0.0/12.8 MB ? eta -:--:--\n",
      "     --------------------------------------- 0.1/12.8 MB 353.1 kB/s eta 0:00:37\n",
      "     --------------------------------------- 0.1/12.8 MB 308.0 kB/s eta 0:00:42\n",
      "     --------------------------------------- 0.1/12.8 MB 425.3 kB/s eta 0:00:30\n",
      "      -------------------------------------- 0.2/12.8 MB 455.1 kB/s eta 0:00:28\n",
      "      -------------------------------------- 0.3/12.8 MB 680.9 kB/s eta 0:00:19\n",
      "     - ------------------------------------- 0.4/12.8 MB 904.2 kB/s eta 0:00:14\n",
      "     - -------------------------------------- 0.6/12.8 MB 1.1 MB/s eta 0:00:12\n",
      "     - -------------------------------------- 0.6/12.8 MB 1.1 MB/s eta 0:00:12\n",
      "     -- ------------------------------------- 0.8/12.8 MB 1.3 MB/s eta 0:00:10\n",
      "     -- ------------------------------------- 0.9/12.8 MB 1.3 MB/s eta 0:00:09\n",
      "     --- ------------------------------------ 1.0/12.8 MB 1.5 MB/s eta 0:00:08\n",
      "     --- ------------------------------------ 1.2/12.8 MB 1.7 MB/s eta 0:00:07\n",
      "     ---- ----------------------------------- 1.5/12.8 MB 1.8 MB/s eta 0:00:07\n",
      "     ---- ----------------------------------- 1.5/12.8 MB 1.8 MB/s eta 0:00:07\n",
      "     ----- ---------------------------------- 1.6/12.8 MB 1.8 MB/s eta 0:00:07\n",
      "     ----- ---------------------------------- 1.7/12.8 MB 1.8 MB/s eta 0:00:07\n",
      "     ----- ---------------------------------- 1.8/12.8 MB 1.8 MB/s eta 0:00:07\n",
      "     ------ --------------------------------- 2.0/12.8 MB 1.9 MB/s eta 0:00:06\n",
      "     ------ --------------------------------- 2.2/12.8 MB 2.0 MB/s eta 0:00:06\n",
      "     ------ --------------------------------- 2.2/12.8 MB 2.0 MB/s eta 0:00:06\n",
      "     ------ --------------------------------- 2.2/12.8 MB 2.0 MB/s eta 0:00:06\n",
      "     ------ --------------------------------- 2.2/12.8 MB 1.8 MB/s eta 0:00:06\n",
      "     ------- -------------------------------- 2.4/12.8 MB 1.9 MB/s eta 0:00:06\n",
      "     --------- ------------------------------ 3.1/12.8 MB 2.3 MB/s eta 0:00:05\n",
      "     ---------- ----------------------------- 3.3/12.8 MB 2.4 MB/s eta 0:00:04\n",
      "     ---------- ----------------------------- 3.5/12.8 MB 2.5 MB/s eta 0:00:04\n",
      "     ----------- ---------------------------- 3.7/12.8 MB 2.5 MB/s eta 0:00:04\n",
      "     ------------ --------------------------- 3.9/12.8 MB 2.6 MB/s eta 0:00:04\n",
      "     ------------ --------------------------- 4.1/12.8 MB 2.7 MB/s eta 0:00:04\n",
      "     ------------- -------------------------- 4.2/12.8 MB 2.7 MB/s eta 0:00:04\n",
      "     ------------- -------------------------- 4.2/12.8 MB 2.7 MB/s eta 0:00:04\n",
      "     ------------- -------------------------- 4.2/12.8 MB 2.7 MB/s eta 0:00:04\n",
      "     ------------- -------------------------- 4.2/12.8 MB 2.7 MB/s eta 0:00:04\n",
      "     ------------- -------------------------- 4.4/12.8 MB 2.5 MB/s eta 0:00:04\n",
      "     ------------- -------------------------- 4.4/12.8 MB 2.5 MB/s eta 0:00:04\n",
      "     ---------------- ----------------------- 5.4/12.8 MB 2.9 MB/s eta 0:00:03\n",
      "     ----------------- ---------------------- 5.7/12.8 MB 2.9 MB/s eta 0:00:03\n",
      "     ------------------ --------------------- 5.9/12.8 MB 3.0 MB/s eta 0:00:03\n",
      "     ------------------- -------------------- 6.1/12.8 MB 3.0 MB/s eta 0:00:03\n",
      "     ------------------- -------------------- 6.3/12.8 MB 3.0 MB/s eta 0:00:03\n",
      "     ------------------- -------------------- 6.3/12.8 MB 3.0 MB/s eta 0:00:03\n",
      "     -------------------- ------------------- 6.5/12.8 MB 3.0 MB/s eta 0:00:03\n",
      "     -------------------- ------------------- 6.7/12.8 MB 3.0 MB/s eta 0:00:03\n",
      "     --------------------- ------------------ 6.9/12.8 MB 3.0 MB/s eta 0:00:02\n",
      "     ---------------------- ----------------- 7.1/12.8 MB 3.1 MB/s eta 0:00:02\n",
      "     ---------------------- ----------------- 7.3/12.8 MB 3.1 MB/s eta 0:00:02\n",
      "     ----------------------- ---------------- 7.5/12.8 MB 3.1 MB/s eta 0:00:02\n",
      "     ------------------------ --------------- 7.7/12.8 MB 3.1 MB/s eta 0:00:02\n",
      "     ------------------------ --------------- 7.9/12.8 MB 3.2 MB/s eta 0:00:02\n",
      "     ------------------------- -------------- 8.2/12.8 MB 3.2 MB/s eta 0:00:02\n",
      "     ------------------------- -------------- 8.3/12.8 MB 3.2 MB/s eta 0:00:02\n",
      "     -------------------------- ------------- 8.3/12.8 MB 3.1 MB/s eta 0:00:02\n",
      "     -------------------------- ------------- 8.5/12.8 MB 3.2 MB/s eta 0:00:02\n",
      "     --------------------------- ------------ 8.8/12.8 MB 3.2 MB/s eta 0:00:02\n",
      "     --------------------------- ------------ 8.9/12.8 MB 3.2 MB/s eta 0:00:02\n",
      "     ---------------------------- ----------- 9.2/12.8 MB 3.3 MB/s eta 0:00:02\n",
      "     ----------------------------- ---------- 9.4/12.8 MB 3.3 MB/s eta 0:00:02\n",
      "     ------------------------------ --------- 9.7/12.8 MB 3.3 MB/s eta 0:00:01\n",
      "     ------------------------------ --------- 9.9/12.8 MB 3.3 MB/s eta 0:00:01\n",
      "     ------------------------------- -------- 10.1/12.8 MB 3.3 MB/s eta 0:00:01\n",
      "     ------------------------------- -------- 10.2/12.8 MB 3.3 MB/s eta 0:00:01\n",
      "     -------------------------------- ------- 10.3/12.8 MB 3.6 MB/s eta 0:00:01\n",
      "     --------------------------------- ------ 10.6/12.8 MB 3.7 MB/s eta 0:00:01\n",
      "     --------------------------------- ------ 10.7/12.8 MB 3.7 MB/s eta 0:00:01\n",
      "     --------------------------------- ------ 10.7/12.8 MB 3.7 MB/s eta 0:00:01\n",
      "     --------------------------------- ------ 10.9/12.8 MB 3.7 MB/s eta 0:00:01\n",
      "     ---------------------------------- ----- 11.1/12.8 MB 3.8 MB/s eta 0:00:01\n",
      "     ----------------------------------- ---- 11.3/12.8 MB 3.8 MB/s eta 0:00:01\n",
      "     ----------------------------------- ---- 11.4/12.8 MB 3.8 MB/s eta 0:00:01\n",
      "     ----------------------------------- ---- 11.4/12.8 MB 3.8 MB/s eta 0:00:01\n",
      "     ----------------------------------- ---- 11.4/12.8 MB 3.8 MB/s eta 0:00:01\n",
      "     ----------------------------------- ---- 11.4/12.8 MB 3.8 MB/s eta 0:00:01\n",
      "     ----------------------------------- ---- 11.4/12.8 MB 3.5 MB/s eta 0:00:01\n",
      "     ----------------------------------- ---- 11.5/12.8 MB 3.5 MB/s eta 0:00:01\n",
      "     -------------------------------------- - 12.2/12.8 MB 3.8 MB/s eta 0:00:01\n",
      "     -------------------------------------- - 12.3/12.8 MB 3.8 MB/s eta 0:00:01\n",
      "     -------------------------------------- - 12.3/12.8 MB 3.7 MB/s eta 0:00:01\n",
      "     ---------------------------------------  12.5/12.8 MB 3.9 MB/s eta 0:00:01\n",
      "     ---------------------------------------  12.7/12.8 MB 3.9 MB/s eta 0:00:01\n",
      "     ---------------------------------------  12.8/12.8 MB 3.8 MB/s eta 0:00:01\n",
      "     ---------------------------------------  12.8/12.8 MB 3.8 MB/s eta 0:00:01\n",
      "     ---------------------------------------  12.8/12.8 MB 3.8 MB/s eta 0:00:01\n",
      "     ---------------------------------------- 12.8/12.8 MB 3.6 MB/s eta 0:00:00\n",
      "Requirement already satisfied: spacy<3.8.0,>=3.7.2 in c:\\users\\sabita\\anaconda3\\lib\\site-packages (from en-core-web-sm==3.7.1) (3.7.2)\n",
      "Requirement already satisfied: spacy-legacy<3.1.0,>=3.0.11 in c:\\users\\sabita\\anaconda3\\lib\\site-packages (from spacy<3.8.0,>=3.7.2->en-core-web-sm==3.7.1) (3.0.12)\n",
      "Requirement already satisfied: spacy-loggers<2.0.0,>=1.0.0 in c:\\users\\sabita\\anaconda3\\lib\\site-packages (from spacy<3.8.0,>=3.7.2->en-core-web-sm==3.7.1) (1.0.5)\n",
      "Requirement already satisfied: murmurhash<1.1.0,>=0.28.0 in c:\\users\\sabita\\anaconda3\\lib\\site-packages (from spacy<3.8.0,>=3.7.2->en-core-web-sm==3.7.1) (1.0.10)\n",
      "Requirement already satisfied: cymem<2.1.0,>=2.0.2 in c:\\users\\sabita\\anaconda3\\lib\\site-packages (from spacy<3.8.0,>=3.7.2->en-core-web-sm==3.7.1) (2.0.8)\n",
      "Requirement already satisfied: preshed<3.1.0,>=3.0.2 in c:\\users\\sabita\\anaconda3\\lib\\site-packages (from spacy<3.8.0,>=3.7.2->en-core-web-sm==3.7.1) (3.0.9)\n",
      "Requirement already satisfied: thinc<8.3.0,>=8.1.8 in c:\\users\\sabita\\anaconda3\\lib\\site-packages (from spacy<3.8.0,>=3.7.2->en-core-web-sm==3.7.1) (8.2.2)\n",
      "Requirement already satisfied: wasabi<1.2.0,>=0.9.1 in c:\\users\\sabita\\anaconda3\\lib\\site-packages (from spacy<3.8.0,>=3.7.2->en-core-web-sm==3.7.1) (1.1.2)\n",
      "Requirement already satisfied: srsly<3.0.0,>=2.4.3 in c:\\users\\sabita\\anaconda3\\lib\\site-packages (from spacy<3.8.0,>=3.7.2->en-core-web-sm==3.7.1) (2.4.8)\n",
      "Requirement already satisfied: catalogue<2.1.0,>=2.0.6 in c:\\users\\sabita\\anaconda3\\lib\\site-packages (from spacy<3.8.0,>=3.7.2->en-core-web-sm==3.7.1) (2.0.10)\n",
      "Requirement already satisfied: weasel<0.4.0,>=0.1.0 in c:\\users\\sabita\\anaconda3\\lib\\site-packages (from spacy<3.8.0,>=3.7.2->en-core-web-sm==3.7.1) (0.3.4)\n",
      "Requirement already satisfied: typer<0.10.0,>=0.3.0 in c:\\users\\sabita\\anaconda3\\lib\\site-packages (from spacy<3.8.0,>=3.7.2->en-core-web-sm==3.7.1) (0.9.0)\n",
      "Requirement already satisfied: smart-open<7.0.0,>=5.2.1 in c:\\users\\sabita\\anaconda3\\lib\\site-packages (from spacy<3.8.0,>=3.7.2->en-core-web-sm==3.7.1) (5.2.1)\n",
      "Requirement already satisfied: tqdm<5.0.0,>=4.38.0 in c:\\users\\sabita\\anaconda3\\lib\\site-packages (from spacy<3.8.0,>=3.7.2->en-core-web-sm==3.7.1) (4.65.0)\n",
      "Requirement already satisfied: requests<3.0.0,>=2.13.0 in c:\\users\\sabita\\anaconda3\\lib\\site-packages (from spacy<3.8.0,>=3.7.2->en-core-web-sm==3.7.1) (2.31.0)\n",
      "Requirement already satisfied: pydantic!=1.8,!=1.8.1,<3.0.0,>=1.7.4 in c:\\users\\sabita\\anaconda3\\lib\\site-packages (from spacy<3.8.0,>=3.7.2->en-core-web-sm==3.7.1) (2.5.2)\n",
      "Requirement already satisfied: jinja2 in c:\\users\\sabita\\anaconda3\\lib\\site-packages (from spacy<3.8.0,>=3.7.2->en-core-web-sm==3.7.1) (3.1.2)\n",
      "Requirement already satisfied: setuptools in c:\\users\\sabita\\anaconda3\\lib\\site-packages (from spacy<3.8.0,>=3.7.2->en-core-web-sm==3.7.1) (68.0.0)\n",
      "Requirement already satisfied: packaging>=20.0 in c:\\users\\sabita\\anaconda3\\lib\\site-packages (from spacy<3.8.0,>=3.7.2->en-core-web-sm==3.7.1) (23.0)\n",
      "Requirement already satisfied: langcodes<4.0.0,>=3.2.0 in c:\\users\\sabita\\anaconda3\\lib\\site-packages (from spacy<3.8.0,>=3.7.2->en-core-web-sm==3.7.1) (3.3.0)\n",
      "Requirement already satisfied: numpy>=1.19.0 in c:\\users\\sabita\\anaconda3\\lib\\site-packages (from spacy<3.8.0,>=3.7.2->en-core-web-sm==3.7.1) (1.24.3)\n",
      "Requirement already satisfied: annotated-types>=0.4.0 in c:\\users\\sabita\\anaconda3\\lib\\site-packages (from pydantic!=1.8,!=1.8.1,<3.0.0,>=1.7.4->spacy<3.8.0,>=3.7.2->en-core-web-sm==3.7.1) (0.6.0)\n",
      "Requirement already satisfied: pydantic-core==2.14.5 in c:\\users\\sabita\\anaconda3\\lib\\site-packages (from pydantic!=1.8,!=1.8.1,<3.0.0,>=1.7.4->spacy<3.8.0,>=3.7.2->en-core-web-sm==3.7.1) (2.14.5)\n",
      "Requirement already satisfied: typing-extensions>=4.6.1 in c:\\users\\sabita\\anaconda3\\lib\\site-packages (from pydantic!=1.8,!=1.8.1,<3.0.0,>=1.7.4->spacy<3.8.0,>=3.7.2->en-core-web-sm==3.7.1) (4.7.1)\n",
      "Requirement already satisfied: charset-normalizer<4,>=2 in c:\\users\\sabita\\anaconda3\\lib\\site-packages (from requests<3.0.0,>=2.13.0->spacy<3.8.0,>=3.7.2->en-core-web-sm==3.7.1) (2.0.4)\n",
      "Requirement already satisfied: idna<4,>=2.5 in c:\\users\\sabita\\anaconda3\\lib\\site-packages (from requests<3.0.0,>=2.13.0->spacy<3.8.0,>=3.7.2->en-core-web-sm==3.7.1) (2.10)\n",
      "Requirement already satisfied: urllib3<3,>=1.21.1 in c:\\users\\sabita\\anaconda3\\lib\\site-packages (from requests<3.0.0,>=2.13.0->spacy<3.8.0,>=3.7.2->en-core-web-sm==3.7.1) (1.26.16)\n",
      "Requirement already satisfied: certifi>=2017.4.17 in c:\\users\\sabita\\anaconda3\\lib\\site-packages (from requests<3.0.0,>=2.13.0->spacy<3.8.0,>=3.7.2->en-core-web-sm==3.7.1) (2023.7.22)\n",
      "Requirement already satisfied: blis<0.8.0,>=0.7.8 in c:\\users\\sabita\\anaconda3\\lib\\site-packages (from thinc<8.3.0,>=8.1.8->spacy<3.8.0,>=3.7.2->en-core-web-sm==3.7.1) (0.7.11)\n",
      "Requirement already satisfied: confection<1.0.0,>=0.0.1 in c:\\users\\sabita\\anaconda3\\lib\\site-packages (from thinc<8.3.0,>=8.1.8->spacy<3.8.0,>=3.7.2->en-core-web-sm==3.7.1) (0.1.4)\n",
      "Requirement already satisfied: colorama in c:\\users\\sabita\\anaconda3\\lib\\site-packages (from tqdm<5.0.0,>=4.38.0->spacy<3.8.0,>=3.7.2->en-core-web-sm==3.7.1) (0.4.6)\n",
      "Requirement already satisfied: click<9.0.0,>=7.1.1 in c:\\users\\sabita\\anaconda3\\lib\\site-packages (from typer<0.10.0,>=0.3.0->spacy<3.8.0,>=3.7.2->en-core-web-sm==3.7.1) (8.0.4)\n",
      "Requirement already satisfied: cloudpathlib<0.17.0,>=0.7.0 in c:\\users\\sabita\\anaconda3\\lib\\site-packages (from weasel<0.4.0,>=0.1.0->spacy<3.8.0,>=3.7.2->en-core-web-sm==3.7.1) (0.16.0)\n",
      "Requirement already satisfied: MarkupSafe>=2.0 in c:\\users\\sabita\\anaconda3\\lib\\site-packages (from jinja2->spacy<3.8.0,>=3.7.2->en-core-web-sm==3.7.1) (2.1.1)\n",
      "\u001b[38;5;2m[+] Download and installation successful\u001b[0m\n",
      "You can now load the package via spacy.load('en_core_web_sm')\n"
     ]
    }
   ],
   "source": [
    "!python -m spacy download en_core_web_sm"
   ]
  },
  {
   "cell_type": "code",
   "execution_count": 3,
   "id": "d8d5ab07",
   "metadata": {},
   "outputs": [],
   "source": [
    "import spacy\n",
    "nlp =spacy.load(\"en_core_web_sm\")\n",
    "doc =nlp(\"data scienceand ai has greate career ahead\")"
   ]
  },
  {
   "cell_type": "code",
   "execution_count": 4,
   "id": "5cfa963a",
   "metadata": {},
   "outputs": [
    {
     "data": {
      "text/plain": [
       "data scienceand ai has greate career ahead"
      ]
     },
     "execution_count": 4,
     "metadata": {},
     "output_type": "execute_result"
    }
   ],
   "source": [
    "doc"
   ]
  },
  {
   "cell_type": "code",
   "execution_count": 5,
   "id": "c5c51993",
   "metadata": {},
   "outputs": [],
   "source": [
    "#install spacy is successful"
   ]
  },
  {
   "cell_type": "code",
   "execution_count": 6,
   "id": "de9603cb",
   "metadata": {},
   "outputs": [
    {
     "name": "stdout",
     "output_type": "stream",
     "text": [
      "data\n",
      "scienceand\n",
      "ai\n",
      "has\n",
      "greate\n",
      "career\n",
      "ahead\n"
     ]
    }
   ],
   "source": [
    "for token in doc:\n",
    "    print(token.text)"
   ]
  },
  {
   "cell_type": "code",
   "execution_count": 7,
   "id": "5d9ff880",
   "metadata": {},
   "outputs": [
    {
     "name": "stdout",
     "output_type": "stream",
     "text": [
      "Apple Apple PROPN NNP nsubj Xxxxx True False\n",
      "is be AUX VBZ aux xx True True\n",
      "looking look VERB VBG ROOT xxxx True False\n",
      "at at ADP IN prep xx True True\n",
      "buying buy VERB VBG pcomp xxxx True False\n",
      "U.K. U.K. PROPN NNP dobj X.X. False False\n",
      "startup startup NOUN NN dep xxxx True False\n",
      "for for ADP IN prep xxx True True\n",
      "$ $ SYM $ quantmod $ False False\n",
      "1 1 NUM CD compound d False False\n",
      "billion billion NUM CD pobj xxxx True False\n"
     ]
    }
   ],
   "source": [
    "nlp = spacy.load(\"en_core_web_sm\")\n",
    "doc=nlp(\"Apple is looking at buying U.K. startup for $1 billion\")\n",
    "\n",
    "\n",
    "for token in doc:\n",
    "    print(token.text,token.lemma_,token.pos_,token.tag_,token.dep_,token.shape_,token.is_alpha,token.is_stop)"
   ]
  },
  {
   "cell_type": "code",
   "execution_count": 8,
   "id": "dbbc5953",
   "metadata": {},
   "outputs": [
    {
     "name": "stdout",
     "output_type": "stream",
     "text": [
      "PROPN\n",
      "AUX\n",
      "VERB\n",
      "ADP\n",
      "VERB\n",
      "PROPN\n",
      "NOUN\n",
      "ADP\n",
      "SYM\n",
      "NUM\n",
      "NUM\n"
     ]
    }
   ],
   "source": [
    "for token in doc:\n",
    "    print(token.pos_)"
   ]
  },
  {
   "cell_type": "code",
   "execution_count": 9,
   "id": "97e89f52",
   "metadata": {},
   "outputs": [
    {
     "name": "stdout",
     "output_type": "stream",
     "text": [
      "Apple PROPN\n",
      "is AUX\n",
      "looking VERB\n",
      "at ADP\n",
      "buying VERB\n",
      "U.K. PROPN\n",
      "startup NOUN\n",
      "for ADP\n",
      "$ SYM\n",
      "1 NUM\n",
      "billion NUM\n"
     ]
    }
   ],
   "source": [
    "for token in doc:\n",
    "    print(token.text,token.pos_)"
   ]
  },
  {
   "cell_type": "code",
   "execution_count": 10,
   "id": "cefcba5e",
   "metadata": {},
   "outputs": [
    {
     "name": "stdout",
     "output_type": "stream",
     "text": [
      "Apple PROPN Apple\n",
      "is AUX be\n",
      "looking VERB look\n",
      "at ADP at\n",
      "buying VERB buy\n",
      "U.K. PROPN U.K.\n",
      "startup NOUN startup\n",
      "for ADP for\n",
      "$ SYM $\n",
      "1 NUM 1\n",
      "billion NUM billion\n"
     ]
    }
   ],
   "source": [
    "for token in doc:\n",
    "    print(token.text,token.pos_,token.lemma_)"
   ]
  },
  {
   "cell_type": "code",
   "execution_count": 11,
   "id": "e176ae8d",
   "metadata": {},
   "outputs": [],
   "source": [
    "# till here we understant basic part of NLU using spacy library "
   ]
  },
  {
   "cell_type": "code",
   "execution_count": null,
   "id": "bb7323b2",
   "metadata": {},
   "outputs": [],
   "source": []
  },
  {
   "cell_type": "code",
   "execution_count": 12,
   "id": "8cc1486d",
   "metadata": {},
   "outputs": [],
   "source": [
    "text=\"\"\"I don't have real-time information, including live scores or\n",
    " updates on specific events like World Cup matches. My training only includes\n",
    " knowledge up until January 2022, and I don't have the ability to browse the \n",
    "internet for the latest information.To get the latest information on\n",
    "World Cup matches, I recommend checking reliable sports news\n",
    "websites, official FIFA sources, or using sports apps that provide \n",
    "up-to-date scores, schedules, and news. Additionally, social media\n",
    "platforms and dedicated sports news channels can be good sources\n",
    "for real-time updates on World Cup matches.As of my last knowledge \n",
    "update in January 2022, Virat Kohli is an Indian international cricketer who \n",
    "has been one of the most prominent figures in world cricket. Born on November\n",
    "5, 1988, in Delhi, India, Kohli is considered one of the best batsmen in the world.\n",
    "He has achieved numerous records and accolades, both as a batsman and as the captain\n",
    "of the Indian cricket team. Kohli is known for his aggressive style of play, \\\n",
    "consistent run-scoring, and leadership qualities.Please note that my information might be outdated as my training data goes\n",
    "up to 2022, and the browsing capability is disabled. For the latest and most accurate \n",
    "information about Virat Kohli, I recommend checking recent sports news updates, official cricket\n",
    "websites, or Virat Kohli's official social media accounts.\"\"\""
   ]
  },
  {
   "cell_type": "code",
   "execution_count": 13,
   "id": "5da54af3",
   "metadata": {},
   "outputs": [
    {
     "data": {
      "text/plain": [
       "\"I don't have real-time information, including live scores or\\n updates on specific events like World Cup matches. My training only includes\\n knowledge up until January 2022, and I don't have the ability to browse the \\ninternet for the latest information.To get the latest information on\\nWorld Cup matches, I recommend checking reliable sports news\\nwebsites, official FIFA sources, or using sports apps that provide \\nup-to-date scores, schedules, and news. Additionally, social media\\nplatforms and dedicated sports news channels can be good sources\\nfor real-time updates on World Cup matches.As of my last knowledge \\nupdate in January 2022, Virat Kohli is an Indian international cricketer who \\nhas been one of the most prominent figures in world cricket. Born on November\\n5, 1988, in Delhi, India, Kohli is considered one of the best batsmen in the world.\\nHe has achieved numerous records and accolades, both as a batsman and as the captain\\nof the Indian cricket team. Kohli is known for his aggressive style of play, consistent run-scoring, and leadership qualities.Please note that my information might be outdated as my training data goes\\nup to 2022, and the browsing capability is disabled. For the latest and most accurate \\ninformation about Virat Kohli, I recommend checking recent sports news updates, official cricket\\nwebsites, or Virat Kohli's official social media accounts.\""
      ]
     },
     "execution_count": 13,
     "metadata": {},
     "output_type": "execute_result"
    }
   ],
   "source": [
    "text"
   ]
  },
  {
   "cell_type": "code",
   "execution_count": 14,
   "id": "a41106bb",
   "metadata": {},
   "outputs": [],
   "source": [
    "import spacy\n",
    "from spacy.lang.en.stop_words import STOP_WORDS\n",
    "from string import punctuation\n"
   ]
  },
  {
   "cell_type": "code",
   "execution_count": 15,
   "id": "9fbb459d",
   "metadata": {},
   "outputs": [],
   "source": [
    "#in NLTK 179 stopwords"
   ]
  },
  {
   "cell_type": "code",
   "execution_count": 16,
   "id": "d449d287",
   "metadata": {},
   "outputs": [
    {
     "data": {
      "text/plain": [
       "['once',\n",
       " 'of',\n",
       " '’ll',\n",
       " 'formerly',\n",
       " 'name',\n",
       " 'various',\n",
       " 'as',\n",
       " 'anywhere',\n",
       " 'how',\n",
       " 'through',\n",
       " 'due',\n",
       " 'put',\n",
       " 'thereby',\n",
       " 'somewhere',\n",
       " 'hers',\n",
       " 'until',\n",
       " 'can',\n",
       " 'becoming',\n",
       " '’re',\n",
       " \"n't\",\n",
       " 'a',\n",
       " 'his',\n",
       " 'thence',\n",
       " 'behind',\n",
       " 'fifty',\n",
       " 'ten',\n",
       " 'while',\n",
       " 'besides',\n",
       " 'whose',\n",
       " 'serious',\n",
       " 'the',\n",
       " 'herself',\n",
       " 'after',\n",
       " 'whatever',\n",
       " 'whereafter',\n",
       " 'those',\n",
       " 'first',\n",
       " 'regarding',\n",
       " 'if',\n",
       " 'both',\n",
       " 'from',\n",
       " 'himself',\n",
       " 'before',\n",
       " 'becomes',\n",
       " 'empty',\n",
       " 'above',\n",
       " 'latterly',\n",
       " 'each',\n",
       " 'does',\n",
       " 'beyond',\n",
       " 'my',\n",
       " 'sixty',\n",
       " 'anything',\n",
       " 'own',\n",
       " 'next',\n",
       " 'whereby',\n",
       " 'forty',\n",
       " 'since',\n",
       " 'per',\n",
       " 'do',\n",
       " 'therefore',\n",
       " 'call',\n",
       " 'whether',\n",
       " 'always',\n",
       " 'take',\n",
       " 'no',\n",
       " 'someone',\n",
       " 'namely',\n",
       " 'only',\n",
       " 'anyway',\n",
       " 'across',\n",
       " 'thereupon',\n",
       " 'yours',\n",
       " 'he',\n",
       " 'about',\n",
       " 'all',\n",
       " 'thereafter',\n",
       " 'but',\n",
       " 'ever',\n",
       " 'five',\n",
       " 'most',\n",
       " 'whenever',\n",
       " 'meanwhile',\n",
       " 'anyone',\n",
       " 'hundred',\n",
       " 'had',\n",
       " 'same',\n",
       " '’m',\n",
       " '’s',\n",
       " 'so',\n",
       " 'up',\n",
       " 'fifteen',\n",
       " 'themselves',\n",
       " 'nowhere',\n",
       " 'afterwards',\n",
       " 'to',\n",
       " 'onto',\n",
       " 'perhaps',\n",
       " 'between',\n",
       " 'everything',\n",
       " 'via',\n",
       " 'nobody',\n",
       " 'back',\n",
       " 'more',\n",
       " 'by',\n",
       " '‘m',\n",
       " 'former',\n",
       " 'become',\n",
       " 'an',\n",
       " '‘ll',\n",
       " \"'ll\",\n",
       " 'with',\n",
       " 'anyhow',\n",
       " 'done',\n",
       " 'towards',\n",
       " 'where',\n",
       " 'other',\n",
       " '‘d',\n",
       " 'few',\n",
       " 'wherever',\n",
       " 'though',\n",
       " 'were',\n",
       " 'us',\n",
       " 'top',\n",
       " 'sometime',\n",
       " 'just',\n",
       " 'along',\n",
       " 'beside',\n",
       " 'using',\n",
       " 'there',\n",
       " 'you',\n",
       " 'such',\n",
       " 'at',\n",
       " 'are',\n",
       " 'still',\n",
       " 'during',\n",
       " 'whole',\n",
       " 'her',\n",
       " 'i',\n",
       " 'ourselves',\n",
       " 'another',\n",
       " 'whereupon',\n",
       " 'none',\n",
       " 'make',\n",
       " 'several',\n",
       " 'therein',\n",
       " 'did',\n",
       " 'or',\n",
       " 'than',\n",
       " 'n‘t',\n",
       " 'full',\n",
       " 'give',\n",
       " 'much',\n",
       " 'bottom',\n",
       " 'it',\n",
       " 'itself',\n",
       " 'also',\n",
       " 'move',\n",
       " 'keep',\n",
       " 'now',\n",
       " 'your',\n",
       " 'least',\n",
       " 'one',\n",
       " 'whence',\n",
       " 'nevertheless',\n",
       " 'they',\n",
       " 'used',\n",
       " 'seeming',\n",
       " 'seem',\n",
       " 'amount',\n",
       " 'however',\n",
       " 'yourselves',\n",
       " 'may',\n",
       " 'we',\n",
       " \"'m\",\n",
       " 'without',\n",
       " 'really',\n",
       " 'been',\n",
       " 'not',\n",
       " 'seemed',\n",
       " 'get',\n",
       " 'except',\n",
       " 'made',\n",
       " 'under',\n",
       " 'hence',\n",
       " 'is',\n",
       " 'say',\n",
       " 'herein',\n",
       " 'even',\n",
       " 'would',\n",
       " 'its',\n",
       " \"'d\",\n",
       " 'in',\n",
       " 'mostly',\n",
       " 'many',\n",
       " 'elsewhere',\n",
       " 'have',\n",
       " 'our',\n",
       " 'for',\n",
       " 'when',\n",
       " 'latter',\n",
       " 'twelve',\n",
       " 'out',\n",
       " 'whoever',\n",
       " '‘ve',\n",
       " 'cannot',\n",
       " 'down',\n",
       " 'could',\n",
       " 'who',\n",
       " 'see',\n",
       " 'be',\n",
       " 'indeed',\n",
       " 'otherwise',\n",
       " 'off',\n",
       " 'six',\n",
       " 'some',\n",
       " 'throughout',\n",
       " 'show',\n",
       " '’ve',\n",
       " 'any',\n",
       " 'else',\n",
       " 'might',\n",
       " 'beforehand',\n",
       " 'toward',\n",
       " 'into',\n",
       " '‘re',\n",
       " 'third',\n",
       " 'wherein',\n",
       " 'alone',\n",
       " 'hereafter',\n",
       " 'rather',\n",
       " 'thus',\n",
       " 'less',\n",
       " 'she',\n",
       " 'sometimes',\n",
       " 'quite',\n",
       " 'myself',\n",
       " 'every',\n",
       " 'side',\n",
       " 'something',\n",
       " 'although',\n",
       " 'has',\n",
       " 're',\n",
       " 'further',\n",
       " 'because',\n",
       " 'amongst',\n",
       " \"'s\",\n",
       " 'this',\n",
       " 'must',\n",
       " 'again',\n",
       " 'yet',\n",
       " 'n’t',\n",
       " 'either',\n",
       " 'among',\n",
       " 'nor',\n",
       " 'over',\n",
       " 'nine',\n",
       " 'two',\n",
       " 'him',\n",
       " 'yourself',\n",
       " 'enough',\n",
       " 'three',\n",
       " 'on',\n",
       " 'and',\n",
       " 'upon',\n",
       " 'whither',\n",
       " 'four',\n",
       " 'what',\n",
       " 'ours',\n",
       " 'whereas',\n",
       " 'front',\n",
       " \"'ve\",\n",
       " 'will',\n",
       " 'already',\n",
       " 'everywhere',\n",
       " 'below',\n",
       " 'that',\n",
       " 'nothing',\n",
       " 'me',\n",
       " 'ca',\n",
       " \"'re\",\n",
       " 'twenty',\n",
       " 'everyone',\n",
       " 'became',\n",
       " 'here',\n",
       " 'these',\n",
       " 'around',\n",
       " 'eleven',\n",
       " 'thru',\n",
       " 'unless',\n",
       " 'eight',\n",
       " 'within',\n",
       " 'almost',\n",
       " 'then',\n",
       " 'hereupon',\n",
       " 'moreover',\n",
       " 'why',\n",
       " 'last',\n",
       " 'them',\n",
       " 'against',\n",
       " 'part',\n",
       " 'am',\n",
       " 'noone',\n",
       " 'mine',\n",
       " 'often',\n",
       " 'hereby',\n",
       " 'somehow',\n",
       " 'go',\n",
       " 'well',\n",
       " 'doing',\n",
       " 'should',\n",
       " 'never',\n",
       " '‘s',\n",
       " 'being',\n",
       " 'whom',\n",
       " 'neither',\n",
       " 'too',\n",
       " 'seems',\n",
       " 'together',\n",
       " 'which',\n",
       " 'others',\n",
       " 'please',\n",
       " 'was',\n",
       " '’d',\n",
       " 'their',\n",
       " 'very']"
      ]
     },
     "execution_count": 16,
     "metadata": {},
     "output_type": "execute_result"
    }
   ],
   "source": [
    "stopwords = list(STOP_WORDS)\n",
    "stopwords"
   ]
  },
  {
   "cell_type": "code",
   "execution_count": 17,
   "id": "92c2fe42",
   "metadata": {},
   "outputs": [
    {
     "data": {
      "text/plain": [
       "326"
      ]
     },
     "execution_count": 17,
     "metadata": {},
     "output_type": "execute_result"
    }
   ],
   "source": [
    "len(stopwords)"
   ]
  },
  {
   "cell_type": "code",
   "execution_count": 18,
   "id": "a15d52aa",
   "metadata": {},
   "outputs": [],
   "source": [
    "#in spacy we have 326 stop words"
   ]
  },
  {
   "cell_type": "code",
   "execution_count": 19,
   "id": "9efd2703",
   "metadata": {},
   "outputs": [],
   "source": [
    "nlp=spacy.load(\"en_core_web_sm\")"
   ]
  },
  {
   "cell_type": "code",
   "execution_count": 20,
   "id": "de495430",
   "metadata": {},
   "outputs": [
    {
     "data": {
      "text/plain": [
       "\"I don't have real-time information, including live scores or\\n updates on specific events like World Cup matches. My training only includes\\n knowledge up until January 2022, and I don't have the ability to browse the \\ninternet for the latest information.To get the latest information on\\nWorld Cup matches, I recommend checking reliable sports news\\nwebsites, official FIFA sources, or using sports apps that provide \\nup-to-date scores, schedules, and news. Additionally, social media\\nplatforms and dedicated sports news channels can be good sources\\nfor real-time updates on World Cup matches.As of my last knowledge \\nupdate in January 2022, Virat Kohli is an Indian international cricketer who \\nhas been one of the most prominent figures in world cricket. Born on November\\n5, 1988, in Delhi, India, Kohli is considered one of the best batsmen in the world.\\nHe has achieved numerous records and accolades, both as a batsman and as the captain\\nof the Indian cricket team. Kohli is known for his aggressive style of play, consistent run-scoring, and leadership qualities.Please note that my information might be outdated as my training data goes\\nup to 2022, and the browsing capability is disabled. For the latest and most accurate \\ninformation about Virat Kohli, I recommend checking recent sports news updates, official cricket\\nwebsites, or Virat Kohli's official social media accounts.\""
      ]
     },
     "execution_count": 20,
     "metadata": {},
     "output_type": "execute_result"
    }
   ],
   "source": [
    "text"
   ]
  },
  {
   "cell_type": "code",
   "execution_count": 21,
   "id": "8d8cdd05",
   "metadata": {},
   "outputs": [],
   "source": [
    "doc=nlp(text)"
   ]
  },
  {
   "cell_type": "code",
   "execution_count": 22,
   "id": "d6a7b1a9",
   "metadata": {},
   "outputs": [
    {
     "data": {
      "text/plain": [
       "I don't have real-time information, including live scores or\n",
       " updates on specific events like World Cup matches. My training only includes\n",
       " knowledge up until January 2022, and I don't have the ability to browse the \n",
       "internet for the latest information.To get the latest information on\n",
       "World Cup matches, I recommend checking reliable sports news\n",
       "websites, official FIFA sources, or using sports apps that provide \n",
       "up-to-date scores, schedules, and news. Additionally, social media\n",
       "platforms and dedicated sports news channels can be good sources\n",
       "for real-time updates on World Cup matches.As of my last knowledge \n",
       "update in January 2022, Virat Kohli is an Indian international cricketer who \n",
       "has been one of the most prominent figures in world cricket. Born on November\n",
       "5, 1988, in Delhi, India, Kohli is considered one of the best batsmen in the world.\n",
       "He has achieved numerous records and accolades, both as a batsman and as the captain\n",
       "of the Indian cricket team. Kohli is known for his aggressive style of play, consistent run-scoring, and leadership qualities.Please note that my information might be outdated as my training data goes\n",
       "up to 2022, and the browsing capability is disabled. For the latest and most accurate \n",
       "information about Virat Kohli, I recommend checking recent sports news updates, official cricket\n",
       "websites, or Virat Kohli's official social media accounts."
      ]
     },
     "execution_count": 22,
     "metadata": {},
     "output_type": "execute_result"
    }
   ],
   "source": [
    "doc"
   ]
  },
  {
   "cell_type": "code",
   "execution_count": 23,
   "id": "18103b7f",
   "metadata": {},
   "outputs": [],
   "source": [
    "#for analysis we have to do document that is mandatory"
   ]
  },
  {
   "cell_type": "code",
   "execution_count": 24,
   "id": "e2250fe1",
   "metadata": {},
   "outputs": [
    {
     "name": "stdout",
     "output_type": "stream",
     "text": [
      "['I', 'do', \"n't\", 'have', 'real', '-', 'time', 'information', ',', 'including', 'live', 'scores', 'or', '\\n ', 'updates', 'on', 'specific', 'events', 'like', 'World', 'Cup', 'matches', '.', 'My', 'training', 'only', 'includes', '\\n ', 'knowledge', 'up', 'until', 'January', '2022', ',', 'and', 'I', 'do', \"n't\", 'have', 'the', 'ability', 'to', 'browse', 'the', '\\n', 'internet', 'for', 'the', 'latest', 'information', '.', 'To', 'get', 'the', 'latest', 'information', 'on', '\\n', 'World', 'Cup', 'matches', ',', 'I', 'recommend', 'checking', 'reliable', 'sports', 'news', '\\n', 'websites', ',', 'official', 'FIFA', 'sources', ',', 'or', 'using', 'sports', 'apps', 'that', 'provide', '\\n', 'up', '-', 'to', '-', 'date', 'scores', ',', 'schedules', ',', 'and', 'news', '.', 'Additionally', ',', 'social', 'media', '\\n', 'platforms', 'and', 'dedicated', 'sports', 'news', 'channels', 'can', 'be', 'good', 'sources', '\\n', 'for', 'real', '-', 'time', 'updates', 'on', 'World', 'Cup', 'matches', '.', 'As', 'of', 'my', 'last', 'knowledge', '\\n', 'update', 'in', 'January', '2022', ',', 'Virat', 'Kohli', 'is', 'an', 'Indian', 'international', 'cricketer', 'who', '\\n', 'has', 'been', 'one', 'of', 'the', 'most', 'prominent', 'figures', 'in', 'world', 'cricket', '.', 'Born', 'on', 'November', '\\n', '5', ',', '1988', ',', 'in', 'Delhi', ',', 'India', ',', 'Kohli', 'is', 'considered', 'one', 'of', 'the', 'best', 'batsmen', 'in', 'the', 'world', '.', '\\n', 'He', 'has', 'achieved', 'numerous', 'records', 'and', 'accolades', ',', 'both', 'as', 'a', 'batsman', 'and', 'as', 'the', 'captain', '\\n', 'of', 'the', 'Indian', 'cricket', 'team', '.', 'Kohli', 'is', 'known', 'for', 'his', 'aggressive', 'style', 'of', 'play', ',', 'consistent', 'run', '-', 'scoring', ',', 'and', 'leadership', 'qualities', '.', 'Please', 'note', 'that', 'my', 'information', 'might', 'be', 'outdated', 'as', 'my', 'training', 'data', 'goes', '\\n', 'up', 'to', '2022', ',', 'and', 'the', 'browsing', 'capability', 'is', 'disabled', '.', 'For', 'the', 'latest', 'and', 'most', 'accurate', '\\n', 'information', 'about', 'Virat', 'Kohli', ',', 'I', 'recommend', 'checking', 'recent', 'sports', 'news', 'updates', ',', 'official', 'cricket', '\\n', 'websites', ',', 'or', 'Virat', 'Kohli', \"'s\", 'official', 'social', 'media', 'accounts', '.']\n"
     ]
    }
   ],
   "source": [
    "tokens = [token.text for token in doc]\n",
    "print(tokens)"
   ]
  },
  {
   "cell_type": "code",
   "execution_count": 25,
   "id": "15981745",
   "metadata": {},
   "outputs": [
    {
     "data": {
      "text/plain": [
       "279"
      ]
     },
     "execution_count": 25,
     "metadata": {},
     "output_type": "execute_result"
    }
   ],
   "source": [
    "len(tokens)"
   ]
  },
  {
   "cell_type": "code",
   "execution_count": 26,
   "id": "2c287eda",
   "metadata": {},
   "outputs": [],
   "source": [
    "#first paragraph,then the paragraph convert to tokens"
   ]
  },
  {
   "cell_type": "code",
   "execution_count": 27,
   "id": "5b2f9021",
   "metadata": {},
   "outputs": [
    {
     "data": {
      "text/plain": [
       "'!\"#$%&\\'()*+,-./:;<=>?@[\\\\]^_`{|}~'"
      ]
     },
     "execution_count": 27,
     "metadata": {},
     "output_type": "execute_result"
    }
   ],
   "source": [
    "punctuation# also called noisy characters"
   ]
  },
  {
   "cell_type": "code",
   "execution_count": 28,
   "id": "31e6fe94",
   "metadata": {},
   "outputs": [
    {
     "data": {
      "text/plain": [
       "I don't have real-time information, including live scores or\n",
       " updates on specific events like World Cup matches. My training only includes\n",
       " knowledge up until January 2022, and I don't have the ability to browse the \n",
       "internet for the latest information.To get the latest information on\n",
       "World Cup matches, I recommend checking reliable sports news\n",
       "websites, official FIFA sources, or using sports apps that provide \n",
       "up-to-date scores, schedules, and news. Additionally, social media\n",
       "platforms and dedicated sports news channels can be good sources\n",
       "for real-time updates on World Cup matches.As of my last knowledge \n",
       "update in January 2022, Virat Kohli is an Indian international cricketer who \n",
       "has been one of the most prominent figures in world cricket. Born on November\n",
       "5, 1988, in Delhi, India, Kohli is considered one of the best batsmen in the world.\n",
       "He has achieved numerous records and accolades, both as a batsman and as the captain\n",
       "of the Indian cricket team. Kohli is known for his aggressive style of play, consistent run-scoring, and leadership qualities.Please note that my information might be outdated as my training data goes\n",
       "up to 2022, and the browsing capability is disabled. For the latest and most accurate \n",
       "information about Virat Kohli, I recommend checking recent sports news updates, official cricket\n",
       "websites, or Virat Kohli's official social media accounts."
      ]
     },
     "execution_count": 28,
     "metadata": {},
     "output_type": "execute_result"
    }
   ],
   "source": [
    "doc"
   ]
  },
  {
   "cell_type": "code",
   "execution_count": 29,
   "id": "825cfd81",
   "metadata": {},
   "outputs": [
    {
     "ename": "SyntaxError",
     "evalue": "invalid syntax (659057475.py, line 2)",
     "output_type": "error",
     "traceback": [
      "\u001b[1;36m  Cell \u001b[1;32mIn[29], line 2\u001b[1;36m\u001b[0m\n\u001b[1;33m    ->we have document\u001b[0m\n\u001b[1;37m    ^\u001b[0m\n\u001b[1;31mSyntaxError\u001b[0m\u001b[1;31m:\u001b[0m invalid syntax\n"
     ]
    }
   ],
   "source": [
    "#logic  \n",
    "->we have document\n",
    "->we convert the document into tokens\n",
    "->then we find out token scoring(so we need to write for loop)"
   ]
  },
  {
   "cell_type": "code",
   "execution_count": 30,
   "id": "3edc42e0",
   "metadata": {},
   "outputs": [],
   "source": [
    "word_frequencies = {}\n",
    "\n",
    "\n",
    "for word in doc:#Iterates through each word in the document.\n",
    "    if word.text.lower() not in stopwords:#Checks if the lowercase version of the word is not in a set of stopwords (common words like \"the,\" \"and,\" etc.). This condition ensures that common words are excluded from the frequency count.\n",
    "        if word.text.lower() not in punctuation: # Checks if the lowercase version of the word is not a punctuation mark.\n",
    "            if word.text not in word_frequencies.keys():\n",
    "                word_frequencies[word.text] = 1\n",
    "            else:\n",
    "                word_frequencies[word.text] += 1"
   ]
  },
  {
   "cell_type": "code",
   "execution_count": null,
   "id": "88f72634",
   "metadata": {},
   "outputs": [],
   "source": [
    "#for word in doc till the last word in the document id word.text .lower nt in stopwords,nt in punctuation,nt in word_frequencies.key/token -scoring both are same\n"
   ]
  },
  {
   "cell_type": "code",
   "execution_count": 31,
   "id": "cd5bf0ed",
   "metadata": {},
   "outputs": [
    {
     "data": {
      "text/plain": [
       "{'real': 2,\n",
       " 'time': 2,\n",
       " 'information': 5,\n",
       " 'including': 1,\n",
       " 'live': 1,\n",
       " 'scores': 2,\n",
       " '\\n ': 2,\n",
       " 'updates': 3,\n",
       " 'specific': 1,\n",
       " 'events': 1,\n",
       " 'like': 1,\n",
       " 'World': 3,\n",
       " 'Cup': 3,\n",
       " 'matches': 3,\n",
       " 'training': 2,\n",
       " 'includes': 1,\n",
       " 'knowledge': 2,\n",
       " 'January': 2,\n",
       " '2022': 3,\n",
       " 'ability': 1,\n",
       " 'browse': 1,\n",
       " '\\n': 14,\n",
       " 'internet': 1,\n",
       " 'latest': 3,\n",
       " 'recommend': 2,\n",
       " 'checking': 2,\n",
       " 'reliable': 1,\n",
       " 'sports': 4,\n",
       " 'news': 4,\n",
       " 'websites': 2,\n",
       " 'official': 3,\n",
       " 'FIFA': 1,\n",
       " 'sources': 2,\n",
       " 'apps': 1,\n",
       " 'provide': 1,\n",
       " 'date': 1,\n",
       " 'schedules': 1,\n",
       " 'Additionally': 1,\n",
       " 'social': 2,\n",
       " 'media': 2,\n",
       " 'platforms': 1,\n",
       " 'dedicated': 1,\n",
       " 'channels': 1,\n",
       " 'good': 1,\n",
       " 'update': 1,\n",
       " 'Virat': 3,\n",
       " 'Kohli': 5,\n",
       " 'Indian': 2,\n",
       " 'international': 1,\n",
       " 'cricketer': 1,\n",
       " 'prominent': 1,\n",
       " 'figures': 1,\n",
       " 'world': 2,\n",
       " 'cricket': 3,\n",
       " 'Born': 1,\n",
       " 'November': 1,\n",
       " '5': 1,\n",
       " '1988': 1,\n",
       " 'Delhi': 1,\n",
       " 'India': 1,\n",
       " 'considered': 1,\n",
       " 'best': 1,\n",
       " 'batsmen': 1,\n",
       " 'achieved': 1,\n",
       " 'numerous': 1,\n",
       " 'records': 1,\n",
       " 'accolades': 1,\n",
       " 'batsman': 1,\n",
       " 'captain': 1,\n",
       " 'team': 1,\n",
       " 'known': 1,\n",
       " 'aggressive': 1,\n",
       " 'style': 1,\n",
       " 'play': 1,\n",
       " 'consistent': 1,\n",
       " 'run': 1,\n",
       " 'scoring': 1,\n",
       " 'leadership': 1,\n",
       " 'qualities': 1,\n",
       " 'note': 1,\n",
       " 'outdated': 1,\n",
       " 'data': 1,\n",
       " 'goes': 1,\n",
       " 'browsing': 1,\n",
       " 'capability': 1,\n",
       " 'disabled': 1,\n",
       " 'accurate': 1,\n",
       " 'recent': 1,\n",
       " 'accounts': 1}"
      ]
     },
     "execution_count": 31,
     "metadata": {},
     "output_type": "execute_result"
    }
   ],
   "source": [
    "word_frequencies  #token scoring both are same "
   ]
  },
  {
   "cell_type": "code",
   "execution_count": 32,
   "id": "d2c0d02a",
   "metadata": {},
   "outputs": [
    {
     "data": {
      "text/plain": [
       "89"
      ]
     },
     "execution_count": 32,
     "metadata": {},
     "output_type": "execute_result"
    }
   ],
   "source": [
    "len(word_frequencies)"
   ]
  },
  {
   "cell_type": "code",
   "execution_count": null,
   "id": "c9320530",
   "metadata": {},
   "outputs": [],
   "source": [
    "#177-63=114(we elimate punctions and stop words)"
   ]
  },
  {
   "cell_type": "code",
   "execution_count": 33,
   "id": "59542dbc",
   "metadata": {},
   "outputs": [],
   "source": [
    "max_frequency=max(word_frequencies.values())"
   ]
  },
  {
   "cell_type": "code",
   "execution_count": 34,
   "id": "bc8a28bd",
   "metadata": {},
   "outputs": [
    {
     "data": {
      "text/plain": [
       "14"
      ]
     },
     "execution_count": 34,
     "metadata": {},
     "output_type": "execute_result"
    }
   ],
   "source": [
    "max_frequency"
   ]
  },
  {
   "cell_type": "code",
   "execution_count": 37,
   "id": "a4c4ab4a",
   "metadata": {},
   "outputs": [],
   "source": [
    "#to get normalized/weighted frequencies you should devide all frequencies with 9\n",
    "# Assuming word_frequencies is a dictionary\n",
    "# Iterate over the keys of the dictionary and normalize the frequencies\n",
    "for word in word_frequencies.keys():\n",
    "    word_frequencies[word] = word_frequencies[word] / max_frequency\n"
   ]
  },
  {
   "cell_type": "code",
   "execution_count": 38,
   "id": "36ac2b32",
   "metadata": {},
   "outputs": [
    {
     "data": {
      "text/plain": [
       "{'real': 0.14285714285714285,\n",
       " 'time': 0.14285714285714285,\n",
       " 'information': 0.35714285714285715,\n",
       " 'including': 0.07142857142857142,\n",
       " 'live': 0.07142857142857142,\n",
       " 'scores': 0.14285714285714285,\n",
       " '\\n ': 0.14285714285714285,\n",
       " 'updates': 0.21428571428571427,\n",
       " 'specific': 0.07142857142857142,\n",
       " 'events': 0.07142857142857142,\n",
       " 'like': 0.07142857142857142,\n",
       " 'World': 0.21428571428571427,\n",
       " 'Cup': 0.21428571428571427,\n",
       " 'matches': 0.21428571428571427,\n",
       " 'training': 0.14285714285714285,\n",
       " 'includes': 0.07142857142857142,\n",
       " 'knowledge': 0.14285714285714285,\n",
       " 'January': 0.14285714285714285,\n",
       " '2022': 0.21428571428571427,\n",
       " 'ability': 0.07142857142857142,\n",
       " 'browse': 0.07142857142857142,\n",
       " '\\n': 1.0,\n",
       " 'internet': 0.07142857142857142,\n",
       " 'latest': 0.21428571428571427,\n",
       " 'recommend': 0.14285714285714285,\n",
       " 'checking': 0.14285714285714285,\n",
       " 'reliable': 0.07142857142857142,\n",
       " 'sports': 0.2857142857142857,\n",
       " 'news': 0.2857142857142857,\n",
       " 'websites': 0.14285714285714285,\n",
       " 'official': 0.21428571428571427,\n",
       " 'FIFA': 0.07142857142857142,\n",
       " 'sources': 0.14285714285714285,\n",
       " 'apps': 0.07142857142857142,\n",
       " 'provide': 0.07142857142857142,\n",
       " 'date': 0.07142857142857142,\n",
       " 'schedules': 0.07142857142857142,\n",
       " 'Additionally': 0.07142857142857142,\n",
       " 'social': 0.14285714285714285,\n",
       " 'media': 0.14285714285714285,\n",
       " 'platforms': 0.07142857142857142,\n",
       " 'dedicated': 0.07142857142857142,\n",
       " 'channels': 0.07142857142857142,\n",
       " 'good': 0.07142857142857142,\n",
       " 'update': 0.07142857142857142,\n",
       " 'Virat': 0.21428571428571427,\n",
       " 'Kohli': 0.35714285714285715,\n",
       " 'Indian': 0.14285714285714285,\n",
       " 'international': 0.07142857142857142,\n",
       " 'cricketer': 0.07142857142857142,\n",
       " 'prominent': 0.07142857142857142,\n",
       " 'figures': 0.07142857142857142,\n",
       " 'world': 0.14285714285714285,\n",
       " 'cricket': 0.21428571428571427,\n",
       " 'Born': 0.07142857142857142,\n",
       " 'November': 0.07142857142857142,\n",
       " '5': 0.07142857142857142,\n",
       " '1988': 0.07142857142857142,\n",
       " 'Delhi': 0.07142857142857142,\n",
       " 'India': 0.07142857142857142,\n",
       " 'considered': 0.07142857142857142,\n",
       " 'best': 0.07142857142857142,\n",
       " 'batsmen': 0.07142857142857142,\n",
       " 'achieved': 0.07142857142857142,\n",
       " 'numerous': 0.07142857142857142,\n",
       " 'records': 0.07142857142857142,\n",
       " 'accolades': 0.07142857142857142,\n",
       " 'batsman': 0.07142857142857142,\n",
       " 'captain': 0.07142857142857142,\n",
       " 'team': 0.07142857142857142,\n",
       " 'known': 0.07142857142857142,\n",
       " 'aggressive': 0.07142857142857142,\n",
       " 'style': 0.07142857142857142,\n",
       " 'play': 0.07142857142857142,\n",
       " 'consistent': 0.07142857142857142,\n",
       " 'run': 0.07142857142857142,\n",
       " 'scoring': 0.07142857142857142,\n",
       " 'leadership': 0.07142857142857142,\n",
       " 'qualities': 0.07142857142857142,\n",
       " 'note': 0.07142857142857142,\n",
       " 'outdated': 0.07142857142857142,\n",
       " 'data': 0.07142857142857142,\n",
       " 'goes': 0.07142857142857142,\n",
       " 'browsing': 0.07142857142857142,\n",
       " 'capability': 0.07142857142857142,\n",
       " 'disabled': 0.07142857142857142,\n",
       " 'accurate': 0.07142857142857142,\n",
       " 'recent': 0.07142857142857142,\n",
       " 'accounts': 0.07142857142857142}"
      ]
     },
     "execution_count": 38,
     "metadata": {},
     "output_type": "execute_result"
    }
   ],
   "source": [
    "word_frequencies"
   ]
  },
  {
   "cell_type": "code",
   "execution_count": null,
   "id": "204929ee",
   "metadata": {},
   "outputs": [],
   "source": [
    "#->weighted score we got"
   ]
  },
  {
   "cell_type": "code",
   "execution_count": 53,
   "id": "abe53e41",
   "metadata": {},
   "outputs": [
    {
     "data": {
      "text/plain": [
       "[I don't have real-time information, including live scores or\n",
       "  updates on specific events like World Cup matches.,\n",
       " My training only includes\n",
       "  knowledge up until January 2022, and I don't have the ability to browse the \n",
       " internet for the latest information.,\n",
       " To get the latest information on\n",
       " World Cup matches, I recommend checking reliable sports news\n",
       " websites, official FIFA sources, or using sports apps that provide \n",
       " up-to-date scores, schedules, and news.,\n",
       " Additionally, social media\n",
       " platforms and dedicated sports news channels can be good sources\n",
       " for real-time updates on World Cup matches.,\n",
       " As of my last knowledge \n",
       " update in January 2022, Virat Kohli is an Indian international cricketer who \n",
       " has been one of the most prominent figures in world cricket.,\n",
       " Born on November\n",
       " 5, 1988, in Delhi, India, Kohli is considered one of the best batsmen in the world.,\n",
       " He has achieved numerous records and accolades, both as a batsman and as the captain\n",
       " of the Indian cricket team.,\n",
       " Kohli is known for his aggressive style of play, consistent run-scoring, and leadership qualities.,\n",
       " Please note that my information might be outdated as my training data goes\n",
       " up to 2022, and the browsing capability is disabled.,\n",
       " For the latest and most accurate \n",
       " information about Virat Kohli, I recommend checking recent sports news updates, official cricket\n",
       " websites, or Virat Kohli's official social media accounts.]"
      ]
     },
     "execution_count": 53,
     "metadata": {},
     "output_type": "execute_result"
    }
   ],
   "source": [
    "#let converted to sentence\n",
    "sentence_tokens = [sent for sent  in doc.sents]\n",
    "sentence_tokens"
   ]
  },
  {
   "cell_type": "code",
   "execution_count": 54,
   "id": "fd91100c",
   "metadata": {},
   "outputs": [
    {
     "data": {
      "text/plain": [
       "10"
      ]
     },
     "execution_count": 54,
     "metadata": {},
     "output_type": "execute_result"
    }
   ],
   "source": [
    "len(sentence_tokens)"
   ]
  },
  {
   "cell_type": "code",
   "execution_count": null,
   "id": "e4d14cef",
   "metadata": {},
   "outputs": [],
   "source": [
    "# now how to get sentence score"
   ]
  },
  {
   "cell_type": "code",
   "execution_count": 62,
   "id": "ee1d2ae2",
   "metadata": {},
   "outputs": [],
   "source": [
    "    sentence_scores = {}\n",
    "\n",
    "    for sent in sentence_tokens:\n",
    "        for word in sent:\n",
    "            if word.text.lower() in word_frequencies.keys():\n",
    "                if sent not in sentence_scores.keys():\n",
    "                    sentence_scores[sent] = word_frequencies[word.text.lower()]\n",
    "                else:\n",
    "                    sentence_scores[sent] += word_frequencies[word.text.lower()]"
   ]
  },
  {
   "cell_type": "code",
   "execution_count": 63,
   "id": "b1184287",
   "metadata": {},
   "outputs": [
    {
     "data": {
      "text/plain": [
       "{I don't have real-time information, including live scores or\n",
       "  updates on specific events like World Cup matches.: 1.8571428571428565,\n",
       " My training only includes\n",
       "  knowledge up until January 2022, and I don't have the ability to browse the \n",
       " internet for the latest information.: 2.5,\n",
       " To get the latest information on\n",
       " World Cup matches, I recommend checking reliable sports news\n",
       " websites, official FIFA sources, or using sports apps that provide \n",
       " up-to-date scores, schedules, and news.: 6.357142857142856,\n",
       " Additionally, social media\n",
       " platforms and dedicated sports news channels can be good sources\n",
       " for real-time updates on World Cup matches.: 4.142857142857142,\n",
       " As of my last knowledge \n",
       " update in January 2022, Virat Kohli is an Indian international cricketer who \n",
       " has been one of the most prominent figures in world cricket.: 3.0714285714285716,\n",
       " Born on November\n",
       " 5, 1988, in Delhi, India, Kohli is considered one of the best batsmen in the world.: 2.5,\n",
       " He has achieved numerous records and accolades, both as a batsman and as the captain\n",
       " of the Indian cricket team.: 1.714285714285714,\n",
       " Kohli is known for his aggressive style of play, consistent run-scoring, and leadership qualities.: 0.6428571428571427,\n",
       " Please note that my information might be outdated as my training data goes\n",
       " up to 2022, and the browsing capability is disabled.: 2.2142857142857144,\n",
       " For the latest and most accurate \n",
       " information about Virat Kohli, I recommend checking recent sports news updates, official cricket\n",
       " websites, or Virat Kohli's official social media accounts.: 4.92857142857143}"
      ]
     },
     "execution_count": 63,
     "metadata": {},
     "output_type": "execute_result"
    }
   ],
   "source": [
    "sentence_scores"
   ]
  },
  {
   "cell_type": "code",
   "execution_count": null,
   "id": "b9fcc0cf",
   "metadata": {},
   "outputs": [],
   "source": [
    "#sentence scoring we can build combination of token scoring\n",
    "->as we can understanding sentence scoring as well"
   ]
  },
  {
   "cell_type": "code",
   "execution_count": null,
   "id": "a6bc2438",
   "metadata": {},
   "outputs": [],
   "source": [
    "# next we should implentent the the datastructure package is heapq(it will short internally largest number or smallest number)"
   ]
  },
  {
   "cell_type": "code",
   "execution_count": 64,
   "id": "83b64396",
   "metadata": {},
   "outputs": [],
   "source": [
    "from  heapq import nlargest"
   ]
  },
  {
   "cell_type": "code",
   "execution_count": null,
   "id": "468f72b7",
   "metadata": {},
   "outputs": [],
   "source": [
    "#meam give the 40% sentence of which has more priority"
   ]
  },
  {
   "cell_type": "code",
   "execution_count": 65,
   "id": "bdbeb4b9",
   "metadata": {},
   "outputs": [],
   "source": [
    "select_length = int(len(sentence_tokens)*0.4)"
   ]
  },
  {
   "cell_type": "code",
   "execution_count": 66,
   "id": "8cabea9b",
   "metadata": {},
   "outputs": [
    {
     "data": {
      "text/plain": [
       "4"
      ]
     },
     "execution_count": 66,
     "metadata": {},
     "output_type": "execute_result"
    }
   ],
   "source": [
    "select_length"
   ]
  },
  {
   "cell_type": "code",
   "execution_count": null,
   "id": "c7ac62a3",
   "metadata": {},
   "outputs": [],
   "source": [
    "# now we need 5 top scoreing from the document "
   ]
  },
  {
   "cell_type": "code",
   "execution_count": 67,
   "id": "cc8ece95",
   "metadata": {},
   "outputs": [],
   "source": [
    "summary = nlargest(select_length,sentence_scores,key=sentence_scores.get )"
   ]
  },
  {
   "cell_type": "code",
   "execution_count": 68,
   "id": "17c9ba6b",
   "metadata": {},
   "outputs": [
    {
     "data": {
      "text/plain": [
       "[To get the latest information on\n",
       " World Cup matches, I recommend checking reliable sports news\n",
       " websites, official FIFA sources, or using sports apps that provide \n",
       " up-to-date scores, schedules, and news.,\n",
       " For the latest and most accurate \n",
       " information about Virat Kohli, I recommend checking recent sports news updates, official cricket\n",
       " websites, or Virat Kohli's official social media accounts.,\n",
       " Additionally, social media\n",
       " platforms and dedicated sports news channels can be good sources\n",
       " for real-time updates on World Cup matches.,\n",
       " As of my last knowledge \n",
       " update in January 2022, Virat Kohli is an Indian international cricketer who \n",
       " has been one of the most prominent figures in world cricket.]"
      ]
     },
     "execution_count": 68,
     "metadata": {},
     "output_type": "execute_result"
    }
   ],
   "source": [
    "summary"
   ]
  },
  {
   "cell_type": "markdown",
   "id": "486a00a2",
   "metadata": {},
   "source": []
  },
  {
   "cell_type": "code",
   "execution_count": 69,
   "id": "42fd9ea0",
   "metadata": {},
   "outputs": [
    {
     "data": {
      "text/plain": [
       "{I don't have real-time information, including live scores or\n",
       "  updates on specific events like World Cup matches.: 1.8571428571428565,\n",
       " My training only includes\n",
       "  knowledge up until January 2022, and I don't have the ability to browse the \n",
       " internet for the latest information.: 2.5,\n",
       " To get the latest information on\n",
       " World Cup matches, I recommend checking reliable sports news\n",
       " websites, official FIFA sources, or using sports apps that provide \n",
       " up-to-date scores, schedules, and news.: 6.357142857142856,\n",
       " Additionally, social media\n",
       " platforms and dedicated sports news channels can be good sources\n",
       " for real-time updates on World Cup matches.: 4.142857142857142,\n",
       " As of my last knowledge \n",
       " update in January 2022, Virat Kohli is an Indian international cricketer who \n",
       " has been one of the most prominent figures in world cricket.: 3.0714285714285716,\n",
       " Born on November\n",
       " 5, 1988, in Delhi, India, Kohli is considered one of the best batsmen in the world.: 2.5,\n",
       " He has achieved numerous records and accolades, both as a batsman and as the captain\n",
       " of the Indian cricket team.: 1.714285714285714,\n",
       " Kohli is known for his aggressive style of play, consistent run-scoring, and leadership qualities.: 0.6428571428571427,\n",
       " Please note that my information might be outdated as my training data goes\n",
       " up to 2022, and the browsing capability is disabled.: 2.2142857142857144,\n",
       " For the latest and most accurate \n",
       " information about Virat Kohli, I recommend checking recent sports news updates, official cricket\n",
       " websites, or Virat Kohli's official social media accounts.: 4.92857142857143}"
      ]
     },
     "execution_count": 69,
     "metadata": {},
     "output_type": "execute_result"
    }
   ],
   "source": [
    "sentence_scores"
   ]
  },
  {
   "cell_type": "code",
   "execution_count": 70,
   "id": "b55a1cae",
   "metadata": {},
   "outputs": [],
   "source": [
    "final_summary = [word.text for  word in summary]"
   ]
  },
  {
   "cell_type": "code",
   "execution_count": 71,
   "id": "f751bc99",
   "metadata": {},
   "outputs": [
    {
     "data": {
      "text/plain": [
       "['To get the latest information on\\nWorld Cup matches, I recommend checking reliable sports news\\nwebsites, official FIFA sources, or using sports apps that provide \\nup-to-date scores, schedules, and news.',\n",
       " \"For the latest and most accurate \\ninformation about Virat Kohli, I recommend checking recent sports news updates, official cricket\\nwebsites, or Virat Kohli's official social media accounts.\",\n",
       " 'Additionally, social media\\nplatforms and dedicated sports news channels can be good sources\\nfor real-time updates on World Cup matches.',\n",
       " 'As of my last knowledge \\nupdate in January 2022, Virat Kohli is an Indian international cricketer who \\nhas been one of the most prominent figures in world cricket.']"
      ]
     },
     "execution_count": 71,
     "metadata": {},
     "output_type": "execute_result"
    }
   ],
   "source": [
    "final_summary"
   ]
  },
  {
   "cell_type": "code",
   "execution_count": 72,
   "id": "401e0036",
   "metadata": {},
   "outputs": [
    {
     "data": {
      "text/plain": [
       "4"
      ]
     },
     "execution_count": 72,
     "metadata": {},
     "output_type": "execute_result"
    }
   ],
   "source": [
    "len(final_summary)"
   ]
  },
  {
   "cell_type": "code",
   "execution_count": 73,
   "id": "2ec93a96",
   "metadata": {},
   "outputs": [
    {
     "data": {
      "text/plain": [
       "['To get the latest information on\\nWorld Cup matches, I recommend checking reliable sports news\\nwebsites, official FIFA sources, or using sports apps that provide \\nup-to-date scores, schedules, and news.',\n",
       " \"For the latest and most accurate \\ninformation about Virat Kohli, I recommend checking recent sports news updates, official cricket\\nwebsites, or Virat Kohli's official social media accounts.\",\n",
       " 'Additionally, social media\\nplatforms and dedicated sports news channels can be good sources\\nfor real-time updates on World Cup matches.',\n",
       " 'As of my last knowledge \\nupdate in January 2022, Virat Kohli is an Indian international cricketer who \\nhas been one of the most prominent figures in world cricket.']"
      ]
     },
     "execution_count": 73,
     "metadata": {},
     "output_type": "execute_result"
    }
   ],
   "source": [
    "final_summary"
   ]
  },
  {
   "cell_type": "code",
   "execution_count": 74,
   "id": "6dcc3482",
   "metadata": {},
   "outputs": [
    {
     "name": "stdout",
     "output_type": "stream",
     "text": [
      "['To get the latest information on\\nWorld Cup matches, I recommend checking reliable sports news\\nwebsites, official FIFA sources, or using sports apps that provide \\nup-to-date scores, schedules, and news.', \"For the latest and most accurate \\ninformation about Virat Kohli, I recommend checking recent sports news updates, official cricket\\nwebsites, or Virat Kohli's official social media accounts.\", 'Additionally, social media\\nplatforms and dedicated sports news channels can be good sources\\nfor real-time updates on World Cup matches.', 'As of my last knowledge \\nupdate in January 2022, Virat Kohli is an Indian international cricketer who \\nhas been one of the most prominent figures in world cricket.']\n"
     ]
    }
   ],
   "source": [
    "print(final_summary)"
   ]
  },
  {
   "cell_type": "code",
   "execution_count": null,
   "id": "b1902d83",
   "metadata": {},
   "outputs": [],
   "source": []
  }
 ],
 "metadata": {
  "kernelspec": {
   "display_name": "Python 3 (ipykernel)",
   "language": "python",
   "name": "python3"
  },
  "language_info": {
   "codemirror_mode": {
    "name": "ipython",
    "version": 3
   },
   "file_extension": ".py",
   "mimetype": "text/x-python",
   "name": "python",
   "nbconvert_exporter": "python",
   "pygments_lexer": "ipython3",
   "version": "3.11.7"
  }
 },
 "nbformat": 4,
 "nbformat_minor": 5
}
